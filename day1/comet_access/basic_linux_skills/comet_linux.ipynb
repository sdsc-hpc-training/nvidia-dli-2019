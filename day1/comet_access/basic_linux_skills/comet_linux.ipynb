{
 "cells": [
  {
   "cell_type": "code",
   "execution_count": null,
   "metadata": {},
   "outputs": [],
   "source": [
    "# System Controls for Comet in Terminal(Mac)**\n",
    "# This is a tutorial on the usage of terminal commands when using Comet"
   ]
  },
  {
   "cell_type": "code",
   "execution_count": null,
   "metadata": {},
   "outputs": [],
   "source": [
    "# This tutorial only runs on Comet"
   ]
  },
  {
   "cell_type": "code",
   "execution_count": 1,
   "metadata": {},
   "outputs": [
    {
     "name": "stdout",
     "output_type": "stream",
     "text": [
      "quantum\n"
     ]
    }
   ],
   "source": [
    "hostname"
   ]
  },
  {
   "cell_type": "code",
   "execution_count": 2,
   "metadata": {},
   "outputs": [],
   "source": [
    "# Who is on the computer"
   ]
  },
  {
   "cell_type": "code",
   "execution_count": 3,
   "metadata": {},
   "outputs": [
    {
     "name": "stdout",
     "output_type": "stream",
     "text": [
      "mthomas\n"
     ]
    }
   ],
   "source": [
    "whoami"
   ]
  },
  {
   "cell_type": "code",
   "execution_count": 4,
   "metadata": {},
   "outputs": [
    {
     "name": "stdout",
     "output_type": "stream",
     "text": [
      "bash: Tells: command not found\n"
     ]
    },
    {
     "ename": "",
     "evalue": "127",
     "output_type": "error",
     "traceback": []
    }
   ],
   "source": [
    "# Tells you which account your server is on which can be helpful when switching around between nodes"
   ]
  },
  {
   "cell_type": "code",
   "execution_count": null,
   "metadata": {},
   "outputs": [],
   "source": [
    "                            Directory Commands"
   ]
  },
  {
   "cell_type": "code",
   "execution_count": null,
   "metadata": {},
   "outputs": [],
   "source": [
    "! mkdir directory #1\n",
    "! cd directory/ #2\n",
    "! ls -al #3"
   ]
  },
  {
   "cell_type": "code",
   "execution_count": null,
   "metadata": {},
   "outputs": [],
   "source": [
    "1) This creates a directory where you can store code or clone github repositories on\n",
    "\n",
    "2) This allows you to go inside the directory to add or create files inside the directory\n",
    "\n",
    "3) This lists all the files inside the directory, including the type, the date, the ownership, and name of directory entry\n",
    "\n",
    "Rather than typing the directory name out, a shortcut is to type\n",
    "cd, the first few letters of the directory/file name, and hit tab on your keyboard. This will automatically put the file name on the command line "
   ]
  },
  {
   "cell_type": "code",
   "execution_count": null,
   "metadata": {},
   "outputs": [],
   "source": [
    "! cd directory\n",
    "! cd ../"
   ]
  },
  {
   "cell_type": "code",
   "execution_count": null,
   "metadata": {},
   "outputs": [],
   "source": [
    "To get out of a file or a directory\n",
    "The command ../ can be put multiple times depending on the directory hiearchy.\n",
    "For example, if I created a file in a directory on my login node, the default setting when logging into comet, and I wanted to go back to my login node I would use..."
   ]
  },
  {
   "cell_type": "code",
   "execution_count": null,
   "metadata": {},
   "outputs": [],
   "source": [
    "! cd../../"
   ]
  },
  {
   "cell_type": "code",
   "execution_count": null,
   "metadata": {},
   "outputs": [],
   "source": [
    "The first ../ gets me out of the file in the directory\n",
    "The second ../ gets me out of the directory on the login node"
   ]
  },
  {
   "cell_type": "code",
   "execution_count": null,
   "metadata": {},
   "outputs": [],
   "source": [
    "                                    Modules"
   ]
  },
  {
   "cell_type": "code",
   "execution_count": null,
   "metadata": {},
   "outputs": [],
   "source": [
    "Environment Modules allows for a dynamic modification of the users environment with modulefiles. This basically means that users are able to  change environment variables, compilers, and libraries in order to improve performance"
   ]
  },
  {
   "cell_type": "code",
   "execution_count": null,
   "metadata": {},
   "outputs": [],
   "source": [
    "! module list #1\n",
    "! module avail #2\n",
    "! module purge #3"
   ]
  },
  {
   "cell_type": "code",
   "execution_count": null,
   "metadata": {},
   "outputs": [],
   "source": [
    "1) This lists the modules that are loaded in your environment. If you have not added any modules, then executing this command should say No ModuleFiles Currently Loaded. \n",
    "\n",
    "2) This lists the avaliable modules\n",
    "\n",
    "3) This deletes all the loaded modules in your environment"
   ]
  },
  {
   "cell_type": "code",
   "execution_count": null,
   "metadata": {},
   "outputs": [],
   "source": [
    "Follow these steps to create environment modules used to run Comet..."
   ]
  },
  {
   "cell_type": "code",
   "execution_count": null,
   "metadata": {},
   "outputs": [],
   "source": [
    "! module load gnutools\n",
    "! module load intel\n",
    "! module load mvapich2_ib\n",
    "! module list"
   ]
  },
  {
   "cell_type": "code",
   "execution_count": null,
   "metadata": {},
   "outputs": [],
   "source": [
    "These three environment modules are the basic modules needed to run a notebook on Comet. The intel compilers are suggested when using Comet. To make sure that the modules are loaded, execute module list. All three modules should show up"
   ]
  },
  {
   "cell_type": "code",
   "execution_count": null,
   "metadata": {},
   "outputs": [],
   "source": [
    "#!/bin/bash"
   ]
  },
  {
   "cell_type": "code",
   "execution_count": null,
   "metadata": {},
   "outputs": [],
   "source": [
    "This can be the first line of the module scripts. This mean that the scripts should be run in bash. This can also be used when creating a bash script by putting this at the top of the script"
   ]
  },
  {
   "cell_type": "code",
   "execution_count": null,
   "metadata": {},
   "outputs": [],
   "source": [
    "If there is a module: command not found when running a module in a batch job or switching between shells use..."
   ]
  },
  {
   "cell_type": "code",
   "execution_count": null,
   "metadata": {},
   "outputs": [],
   "source": [
    "! source /etc/profile.d/modules.sh "
   ]
  },
  {
   "cell_type": "code",
   "execution_count": null,
   "metadata": {},
   "outputs": [],
   "source": [
    "    Running a Notebook Inside Comet"
   ]
  },
  {
   "cell_type": "code",
   "execution_count": null,
   "metadata": {},
   "outputs": [],
   "source": [
    "To run a notebook using Comet, make sure you are on a protected network (ex. UCSD-PROTECTED).\n",
    "Go into your directory file that has notebooks that you would like to run. \n",
    "To get an interactive node, use this command..."
   ]
  },
  {
   "cell_type": "code",
   "execution_count": null,
   "metadata": {},
   "outputs": [],
   "source": [
    "! srun --pty --nodes=1 --ntasks-per-node=24 -p compute -t 02:00:00 --wait 0 /bin/bash"
   ]
  },
  {
   "cell_type": "code",
   "execution_count": null,
   "metadata": {},
   "outputs": [],
   "source": [
    "It will say job XXXX has been allocated resources and will give the command line when you have been given a node. In order to run a notebook, you have to load a singularity module, which creates an interactive shell inside the container..."
   ]
  },
  {
   "cell_type": "code",
   "execution_count": null,
   "metadata": {},
   "outputs": [],
   "source": [
    "! module load singularity"
   ]
  },
  {
   "cell_type": "code",
   "execution_count": null,
   "metadata": {},
   "outputs": [],
   "source": [
    "! singularity shell /share/apps/gpu/singularity/sdsc_ubuntu_tf1.1_keras_R.img"
   ]
  },
  {
   "cell_type": "code",
   "execution_count": null,
   "metadata": {},
   "outputs": [],
   "source": [
    "To get a URL that connect your local browser to an interactive comet session use ..."
   ]
  },
  {
   "cell_type": "code",
   "execution_count": null,
   "metadata": {},
   "outputs": [],
   "source": [
    "! ipython notebook --no-browser --ip=`/bin/hostname`"
   ]
  },
  {
   "cell_type": "code",
   "execution_count": null,
   "metadata": {},
   "outputs": [],
   "source": [
    "This will give a http link. Copy and Paste it into your browser and you will be able to run a notebook on Comet!"
   ]
  },
  {
   "cell_type": "code",
   "execution_count": null,
   "metadata": {},
   "outputs": [],
   "source": [
    "To exit out of a notebook, use control-C\n",
    "\n",
    "To exit out of a node , use control-D\n",
    "\n",
    "To exit out of Comet, use control-D or type exit"
   ]
  }
 ],
 "metadata": {
  "kernelspec": {
   "display_name": "Bash",
   "language": "bash",
   "name": "bash"
  },
  "language_info": {
   "codemirror_mode": "shell",
   "file_extension": ".sh",
   "mimetype": "text/x-sh",
   "name": "bash"
  }
 },
 "nbformat": 4,
 "nbformat_minor": 4
}
